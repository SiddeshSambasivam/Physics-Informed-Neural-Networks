{
 "cells": [
  {
   "cell_type": "code",
   "execution_count": 1,
   "id": "a93ca706",
   "metadata": {},
   "outputs": [
    {
     "data": {
      "text/plain": [
       "<torch._C.Generator at 0x7fa4288491f0>"
      ]
     },
     "execution_count": 1,
     "metadata": {},
     "output_type": "execute_result"
    }
   ],
   "source": [
    "import os\n",
    "from collections import OrderedDict\n",
    "\n",
    "import torch \n",
    "import scipy.io\n",
    "import numpy as np\n",
    "\n",
    "import torch \n",
    "import torch.nn as nn\n",
    "import torch.nn.functional as F\n",
    "\n",
    "from tqdm import trange\n",
    "\n",
    "from pylab import meshgrid\n",
    "from matplotlib import pyplot as plt\n",
    "\n",
    "seed = 3\n",
    "np.random.seed(seed)\n",
    "torch.manual_seed(seed)"
   ]
  },
  {
   "cell_type": "markdown",
   "id": "bf440b3d",
   "metadata": {},
   "source": [
    "**Two functions**\n",
    "1. $f(x,t)$ -> function to calculate the residual of the NN output\n",
    "2. $u(x,t)$ -> NN\n",
    "\n",
    "* $n_u$ is intial and boundary points\n",
    "    * sample -> (t, x)\n",
    "    * if sample[0] in (0, 1) or sample[1] in (-1,1): add to BC_IC_pts\n",
    "    * else: add to collocation points\n",
    "    \n",
    "    \n",
    "    \n",
    "* $n_f$ is collocation points\n",
    "\n",
    "\n",
    "* $n_u$ = 100 and $n_f$ = 10,000\n",
    "\n",
    "* With 8 Hidden layers with each 40 neurons, gives an $L_2$ error of $5.6e−04$\n",
    "\n"
   ]
  },
  {
   "cell_type": "code",
   "execution_count": 2,
   "id": "42602ed9",
   "metadata": {},
   "outputs": [
    {
     "data": {
      "text/plain": [
       "((256, 1), (100, 1), (256, 100))"
      ]
     },
     "execution_count": 2,
     "metadata": {},
     "output_type": "execute_result"
    }
   ],
   "source": [
    "DATA_PATH = \"../Data/burgers_shock.mat\"\n",
    "data_dict = scipy.io.loadmat(DATA_PATH)\n",
    "\n",
    "n_u, n_f = 100, 10000\n",
    "\n",
    "x_data,t_data, u_data = data_dict['x'], data_dict['t'], data_dict['usol']\n",
    "x_data.shape, t_data.shape, u_data.shape"
   ]
  },
  {
   "cell_type": "code",
   "execution_count": 3,
   "id": "9ad3147e",
   "metadata": {},
   "outputs": [
    {
     "data": {
      "text/plain": [
       "((256, 100), (256, 100))"
      ]
     },
     "execution_count": 3,
     "metadata": {},
     "output_type": "execute_result"
    }
   ],
   "source": [
    "u_t, u_x = meshgrid(t_data, x_data)\n",
    "u_t.shape, u_x.shape"
   ]
  },
  {
   "cell_type": "code",
   "execution_count": 4,
   "id": "0f294e4c",
   "metadata": {},
   "outputs": [],
   "source": [
    "u_data_transformed = u_data.flatten()[:, None] # (25600,1)\n",
    "training_points = np.hstack((u_t.flatten()[:, None], u_x.flatten()[:, None])) # (25600, 2)\n"
   ]
  },
  {
   "cell_type": "code",
   "execution_count": 5,
   "id": "7e04ac3a",
   "metadata": {},
   "outputs": [],
   "source": [
    "IC_X, IC_Y = list(), list() # Initial and boundary points\n",
    "CC_X, CC_Y = list(), list() # Collocation points\n",
    "\n",
    "for idx, sample in enumerate(training_points):\n",
    "    \n",
    "    t, x = sample\n",
    "    if t in [0,1] or x in [-1,1]:\n",
    "        IC_X.append(sample)\n",
    "        IC_Y.append(u_data_transformed[idx])\n",
    "    else:\n",
    "        CC_X.append(sample)\n",
    "        CC_Y.append(u_data_transformed[idx])\n",
    "        \n",
    "IC_X = np.array(IC_X)\n",
    "IC_Y = np.array(IC_Y)\n",
    "\n",
    "CC_X = np.array(CC_X)\n",
    "CC_Y = np.array(CC_Y)"
   ]
  },
  {
   "cell_type": "code",
   "execution_count": 6,
   "id": "463edbb8",
   "metadata": {},
   "outputs": [],
   "source": [
    "n_u_idx = list(np.random.choice(len(IC_X), n_u))\n",
    "n_f_idx = list(np.random.choice(len(CC_X), n_f))\n",
    "\n",
    "u_x = torch.tensor(IC_X[n_u_idx, 1:2], requires_grad=True).float()\n",
    "u_t = torch.tensor(IC_X[n_u_idx, 0:1], requires_grad=True).float()\n",
    "u_u = torch.tensor(IC_Y[n_u_idx, :], requires_grad=True).float()\n",
    "\n",
    "f_x = torch.tensor(CC_X[n_f_idx, 1:2], requires_grad=True).float()\n",
    "f_t = torch.tensor(CC_X[n_f_idx, 0:1], requires_grad=True).float()\n",
    "f_u = torch.tensor(CC_Y[n_f_idx, :], requires_grad=True).float()\n",
    "\n",
    "train_x = torch.cat((u_x, f_x), dim=0)\n",
    "train_t = torch.cat((u_t, f_t), dim=0)\n",
    "train_u = torch.cat((u_u, f_u), dim=0)"
   ]
  },
  {
   "cell_type": "code",
   "execution_count": 7,
   "id": "14733499",
   "metadata": {},
   "outputs": [
    {
     "name": "stdout",
     "output_type": "stream",
     "text": [
      "<class 'torch.nn.parameter.Parameter'> torch.Size([40, 2])\n",
      "<class 'torch.nn.parameter.Parameter'> torch.Size([40])\n",
      "<class 'torch.nn.parameter.Parameter'> torch.Size([40, 40])\n",
      "<class 'torch.nn.parameter.Parameter'> torch.Size([40])\n",
      "<class 'torch.nn.parameter.Parameter'> torch.Size([40, 40])\n",
      "<class 'torch.nn.parameter.Parameter'> torch.Size([40])\n",
      "<class 'torch.nn.parameter.Parameter'> torch.Size([1, 40])\n",
      "<class 'torch.nn.parameter.Parameter'> torch.Size([1])\n"
     ]
    }
   ],
   "source": [
    "class PhysicsINN(nn.Module):\n",
    "    \n",
    "    '''\n",
    "    Physics Informed Neural Network\n",
    "    Written: Siddesh Sambasivam Suseela\n",
    "    \n",
    "    '''\n",
    "    \n",
    "    def __init__(self, num_layers:int=2, num_neurons:int=20) -> None:\n",
    "        \n",
    "        super(PhysicsINN, self).__init__()\n",
    "        \n",
    "        self.num_layers = num_layers\n",
    "        self.num_neurons = num_neurons\n",
    "        \n",
    "        # Each hidden layer contained 20 neurons and a hyperbolic tangent activation function.\n",
    "        self.activation_func = torch.nn.Tanh\n",
    "        \n",
    "        ordered_layers = list()\n",
    "                \n",
    "        ordered_layers.append((\"input_layer\", nn.Linear(2, self.num_neurons)))\n",
    "        ordered_layers.append((\"input_activation\", self.activation_func()))\n",
    "        \n",
    "        # Create num_layers-2 linear layers with num_neuron neurons and tanh activation function\n",
    "        for i in range(self.num_layers-2):\n",
    "            \n",
    "            ordered_layers.append((\"layer_%d\" % (i+1), nn.Linear(self.num_neurons, self.num_neurons)))\n",
    "            ordered_layers.append((\"layer_%d_activation\" % (i+1), self.activation_func()))\n",
    "                        \n",
    "        ordered_layers.append((\"output_layer\", nn.Linear(self.num_neurons, 1)))\n",
    "        \n",
    "        self.net = nn.Sequential(OrderedDict(ordered_layers))    \n",
    "        \n",
    "        self.init_weights()\n",
    "        \n",
    "    def init_weights(self, ) -> None:\n",
    "        \"\"\"\n",
    "        Initializes the weights and biases of all the layers in the model\n",
    "        \n",
    "        NOTE: According to the paper, the model's weights are initialized by xaviers' distribution\n",
    "        and biases are initialized as zeros\n",
    "        \n",
    "        \"\"\"\n",
    "        for param in self.parameters():\n",
    "            if len(param.shape) >= 2: torch.nn.init.xavier_normal_(param, )\n",
    "            elif len(param.shape) == 1: torch.nn.init.zeros_(param)\n",
    "\n",
    "        \n",
    "    def forward(self, inputs) -> torch.Tensor:\n",
    "        '''returns the output from the model'''\n",
    "        \n",
    "        out = self.net(inputs)\n",
    "\n",
    "        return out \n",
    "    \n",
    "model = PhysicsINN(4, 40)\n",
    "\n",
    "# Flexible HP\n",
    "# 1. Hidden layers\n",
    "# 2. Num_neurons\n",
    "# 3. Activation functions\n",
    "\n",
    "# Check the layer sizes\n",
    "for param in model.parameters():\n",
    "    print(type(param), param.size())\n",
    "    "
   ]
  },
  {
   "cell_type": "code",
   "execution_count": 11,
   "id": "81b0569e",
   "metadata": {},
   "outputs": [
    {
     "name": "stderr",
     "output_type": "stream",
     "text": [
      "loss: 0.00021063242456875741: 100%|██████████| 100/100 [01:53<00:00,  1.13s/it]\n"
     ]
    }
   ],
   "source": [
    "EPOCHS = 100\n",
    "optimizer = torch.optim.LBFGS(model.parameters())\n",
    "\n",
    "t_bar = trange(EPOCHS)\n",
    "\n",
    "for epoch in t_bar:\n",
    "    \n",
    "    def closure():\n",
    "        optimizer.zero_grad()\n",
    "        \n",
    "        output = model(torch.cat((train_t, train_x), dim=1))\n",
    "        \n",
    "        u_grad_x =  torch.autograd.grad(output, train_x, retain_graph=True, create_graph=True, grad_outputs=torch.ones_like(output),allow_unused=True)[0]\n",
    "        u_grad_xx = torch.autograd.grad(u_grad_x, train_x, retain_graph=True, create_graph=True, grad_outputs=torch.ones_like(output),allow_unused=True)[0]\n",
    "        \n",
    "        u_grad_t = torch.autograd.grad(output, train_t, retain_graph=True, create_graph=True, grad_outputs=torch.ones_like(output),allow_unused=True)[0]\n",
    "        \n",
    "        f = u_grad_t + output*u_grad_x - (0.01/np.pi) * u_grad_xx\n",
    "        \n",
    "        mse_f = torch.mean(torch.square(f))\n",
    "        mse_u = torch.mean(torch.square(output - train_u))\n",
    "        \n",
    "        loss = mse_f + mse_u\n",
    "        \n",
    "        loss.backward()\n",
    "        \n",
    "        t_bar.set_description(\"loss: %.20f\" % loss.item())\n",
    "        t_bar.refresh() # to show immediately the update\n",
    "    \n",
    "        return loss\n",
    "    \n",
    "    optimizer.step(closure)\n",
    "        "
   ]
  },
  {
   "cell_type": "markdown",
   "id": "cd3d217c",
   "metadata": {},
   "source": [
    "### Neural Network has 2 Hidden layers with 40 neurons\n",
    "1. For 100 Epochs: $0.9e-1$\n",
    "\n",
    "2. For 200 Epochs: $0.6e-3$\n",
    "\n",
    "0.02913970686495304108\n",
    "\n",
    "0.02671100944280624390"
   ]
  },
  {
   "cell_type": "code",
   "execution_count": 75,
   "id": "51c082e3",
   "metadata": {},
   "outputs": [],
   "source": [
    "test_X = [[], [], []]\n",
    "test_Y = [[], [], []]\n",
    "\n",
    "for idx, sample in enumerate(training_points):\n",
    "    \n",
    "    t, x = sample\n",
    "    if t == 0.25:\n",
    "        test_X[0].append(sample)\n",
    "        test_Y[0].append(u_data_transformed[idx])\n",
    "        \n",
    "    if t == 0.50:\n",
    "        test_X[1].append(sample)\n",
    "        test_Y[1].append(u_data_transformed[idx])        \n",
    "        \n",
    "    if t == 0.75:\n",
    "        test_X[2].append(sample)\n",
    "        test_Y[2].append(u_data_transformed[idx])        "
   ]
  },
  {
   "cell_type": "code",
   "execution_count": 54,
   "id": "65f5b7d7",
   "metadata": {},
   "outputs": [
    {
     "data": {
      "text/plain": [
       "(array([ 0.15, -1.  ]), array([0.01671071]))"
      ]
     },
     "execution_count": 54,
     "metadata": {},
     "output_type": "execute_result"
    }
   ],
   "source": [
    "test_X[0][0], test_Y[0][1]"
   ]
  },
  {
   "cell_type": "code",
   "execution_count": 65,
   "id": "3f44e2da",
   "metadata": {},
   "outputs": [
    {
     "data": {
      "text/plain": [
       "[<matplotlib.lines.Line2D at 0x7fa3d3aa5290>]"
      ]
     },
     "execution_count": 65,
     "metadata": {},
     "output_type": "execute_result"
    },
    {
     "data": {
      "image/png": "[encoded data removed]",
      "text/plain": [
       "<Figure size 576x360 with 1 Axes>"
      ]
     },
     "metadata": {
      "needs_background": "light"
     },
     "output_type": "display_data"
    }
   ],
   "source": [
    "fig, ax = plt.subplots(figsize=(8,5))\n",
    "ax.plot(test_Y[0],  linewidth=5)\n",
    "ax.plot(model(torch.tensor(test_X[0]).float()).detach().numpy(), \"r--\", linewidth=5)"
   ]
  },
  {
   "cell_type": "code",
   "execution_count": 119,
   "id": "f0ed913f",
   "metadata": {},
   "outputs": [
    {
     "data": {
      "image/png": "[encoded data removed]",
      "text/plain": [
       "<Figure size 1440x360 with 3 Axes>"
      ]
     },
     "metadata": {
      "needs_background": "light"
     },
     "output_type": "display_data"
    }
   ],
   "source": [
    "fig, axs = plt.subplots(1,3, sharey=True, figsize=(20,5))\n",
    "width = 6\n",
    "\n",
    "for i,t in enumerate([0.25, 0.50, 0.75]):\n",
    "    \n",
    "    axs[i].set_title(f\"$U(t,x)$ at t={t}\")\n",
    "    axs[i].plot(test_Y[i],  linewidth=width, label=\"ground truth\")\n",
    "    axs[i].plot(model(torch.tensor(test_X[i]).float()).detach().numpy(), \"r--\", linewidth=width, label='prediction')\n",
    "    axs[i].legend(loc='upper right')\n",
    "    \n",
    "#     axs[i].set_xlim(-1,1)    \n",
    "#     axs[i].set_ylim(-1,1)    \n",
    "\n",
    "\n",
    "fig.savefig('model_prediction.png')"
   ]
  },
  {
   "cell_type": "code",
   "execution_count": 101,
   "id": "ae04422a",
   "metadata": {},
   "outputs": [
    {
     "data": {
      "text/plain": [
       "array([[ 0.00503904, -1.        ],\n",
       "       [ 0.01180881, -0.99215686],\n",
       "       [ 0.01861006, -0.98431373],\n",
       "       [ 0.02544111, -0.97647059],\n",
       "       [ 0.03230196, -0.96862745],\n",
       "       [ 0.03919154, -0.96078431],\n",
       "       [ 0.04610866, -0.95294118],\n",
       "       [ 0.05305332, -0.94509804],\n",
       "       [ 0.06002432, -0.9372549 ],\n",
       "       [ 0.06702143, -0.92941176],\n",
       "       [ 0.0740425 , -0.92156863],\n",
       "       [ 0.08108789, -0.91372549],\n",
       "       [ 0.08815569, -0.90588235],\n",
       "       [ 0.09524566, -0.89803922],\n",
       "       [ 0.10235697, -0.89019608],\n",
       "       [ 0.10948759, -0.88235294],\n",
       "       [ 0.11663741, -0.8745098 ],\n",
       "       [ 0.12380558, -0.86666667],\n",
       "       [ 0.13099033, -0.85882353],\n",
       "       [ 0.13819057, -0.85098039],\n",
       "       [ 0.14540619, -0.84313725],\n",
       "       [ 0.15263516, -0.83529412],\n",
       "       [ 0.15987688, -0.82745098],\n",
       "       [ 0.16713017, -0.81960784],\n",
       "       [ 0.17439359, -0.81176471],\n",
       "       [ 0.18166679, -0.80392157],\n",
       "       [ 0.18894809, -0.79607843],\n",
       "       [ 0.19623655, -0.78823529],\n",
       "       [ 0.20353132, -0.78039216],\n",
       "       [ 0.21083099, -0.77254902],\n",
       "       [ 0.21813446, -0.76470588],\n",
       "       [ 0.22544092, -0.75686275],\n",
       "       [ 0.23274916, -0.74901961],\n",
       "       [ 0.24005872, -0.74117647],\n",
       "       [ 0.24736828, -0.73333333],\n",
       "       [ 0.25467664, -0.7254902 ],\n",
       "       [ 0.26198298, -0.71764706],\n",
       "       [ 0.26928622, -0.70980392],\n",
       "       [ 0.27658683, -0.70196078],\n",
       "       [ 0.2838822 , -0.69411765],\n",
       "       [ 0.29117268, -0.68627451],\n",
       "       [ 0.29845732, -0.67843137],\n",
       "       [ 0.30573529, -0.67058824],\n",
       "       [ 0.31300622, -0.6627451 ],\n",
       "       [ 0.32026905, -0.65490196],\n",
       "       [ 0.32752413, -0.64705882],\n",
       "       [ 0.3347699 , -0.63921569],\n",
       "       [ 0.34200627, -0.63137255],\n",
       "       [ 0.34923381, -0.62352941],\n",
       "       [ 0.35645074, -0.61568627],\n",
       "       [ 0.36365777, -0.60784314],\n",
       "       [ 0.37085396, -0.6       ],\n",
       "       [ 0.3780399 , -0.59215686],\n",
       "       [ 0.38521522, -0.58431373],\n",
       "       [ 0.39237922, -0.57647059],\n",
       "       [ 0.39953285, -0.56862745],\n",
       "       [ 0.40667599, -0.56078431],\n",
       "       [ 0.41380769, -0.55294118],\n",
       "       [ 0.42092925, -0.54509804],\n",
       "       [ 0.42803985, -0.5372549 ],\n",
       "       [ 0.43514031, -0.52941176],\n",
       "       [ 0.44223052, -0.52156863],\n",
       "       [ 0.44931084, -0.51372549],\n",
       "       [ 0.45638138, -0.50588235],\n",
       "       [ 0.46344179, -0.49803922],\n",
       "       [ 0.47049385, -0.49019608],\n",
       "       [ 0.4775359 , -0.48235294],\n",
       "       [ 0.48456961, -0.4745098 ],\n",
       "       [ 0.49159425, -0.46666667],\n",
       "       [ 0.49861068, -0.45882353],\n",
       "       [ 0.50561839, -0.45098039],\n",
       "       [ 0.51261741, -0.44313725],\n",
       "       [ 0.51960891, -0.43529412],\n",
       "       [ 0.52659148, -0.42745098],\n",
       "       [ 0.53356534, -0.41960784],\n",
       "       [ 0.5405305 , -0.41176471],\n",
       "       [ 0.54748696, -0.40392157],\n",
       "       [ 0.55443293, -0.39607843],\n",
       "       [ 0.56137007, -0.38823529],\n",
       "       [ 0.56829613, -0.38039216],\n",
       "       [ 0.57521063, -0.37254902],\n",
       "       [ 0.58211321, -0.36470588],\n",
       "       [ 0.58900243, -0.35686275],\n",
       "       [ 0.59587711, -0.34901961],\n",
       "       [ 0.60273641, -0.34117647],\n",
       "       [ 0.60957867, -0.33333333],\n",
       "       [ 0.61640257, -0.3254902 ],\n",
       "       [ 0.62320644, -0.31764706],\n",
       "       [ 0.62998837, -0.30980392],\n",
       "       [ 0.6367473 , -0.30196078],\n",
       "       [ 0.64348072, -0.29411765],\n",
       "       [ 0.65018731, -0.28627451],\n",
       "       [ 0.65686494, -0.27843137],\n",
       "       [ 0.66351217, -0.27058824],\n",
       "       [ 0.67012721, -0.2627451 ],\n",
       "       [ 0.6767084 , -0.25490196],\n",
       "       [ 0.68325406, -0.24705882],\n",
       "       [ 0.68976325, -0.23921569],\n",
       "       [ 0.69623488, -0.23137255],\n",
       "       [ 0.70266789, -0.22352941],\n",
       "       [ 0.70906168, -0.21568627],\n",
       "       [ 0.71541566, -0.20784314],\n",
       "       [ 0.72172982, -0.2       ],\n",
       "       [ 0.72800356, -0.19215686],\n",
       "       [ 0.73423737, -0.18431373],\n",
       "       [ 0.74043065, -0.17647059],\n",
       "       [ 0.74658388, -0.16862745],\n",
       "       [ 0.75269634, -0.16078431],\n",
       "       [ 0.75876886, -0.15294118],\n",
       "       [ 0.76480144, -0.14509804],\n",
       "       [ 0.77079409, -0.1372549 ],\n",
       "       [ 0.77674776, -0.12941176],\n",
       "       [ 0.78266352, -0.12156863],\n",
       "       [ 0.78854495, -0.11372549],\n",
       "       [ 0.79439408, -0.10588235],\n",
       "       [ 0.80021638, -0.09803922],\n",
       "       [ 0.80601734, -0.09019608],\n",
       "       [ 0.81180304, -0.08235294],\n",
       "       [ 0.81758147, -0.0745098 ],\n",
       "       [ 0.82336432, -0.06666667],\n",
       "       [ 0.82917374, -0.05882353],\n",
       "       [ 0.83504373, -0.05098039],\n",
       "       [ 0.84099907, -0.04313725],\n",
       "       [ 0.84690994, -0.03529412],\n",
       "       [ 0.85186476, -0.02745098],\n",
       "       [ 0.85009211, -0.01960784],\n",
       "       [ 0.79434603, -0.01176471],\n",
       "       [ 0.40845221, -0.00392157],\n",
       "       [-0.43920141,  0.00392157],\n",
       "       [-0.79892176,  0.01176471],\n",
       "       [-0.8505162 ,  0.01960784],\n",
       "       [-0.8516233 ,  0.02745098],\n",
       "       [-0.84673619,  0.03529412],\n",
       "       [-0.84106874,  0.04313725],\n",
       "       [-0.83534837,  0.05098039],\n",
       "       [-0.82965744,  0.05882353],\n",
       "       [-0.8239457 ,  0.06666667],\n",
       "       [-0.81816286,  0.0745098 ],\n",
       "       [-0.81228846,  0.08235294],\n",
       "       [-0.80633044,  0.09019608],\n",
       "       [-0.80030823,  0.09803922],\n",
       "       [-0.79424202,  0.10588235],\n",
       "       [-0.78815055,  0.11372549],\n",
       "       [-0.78204274,  0.12156863],\n",
       "       [-0.77592558,  0.12941176],\n",
       "       [-0.76979983,  0.1372549 ],\n",
       "       [-0.76366234,  0.14509804],\n",
       "       [-0.75751114,  0.15294118],\n",
       "       [-0.75134259,  0.16078431],\n",
       "       [-0.74515295,  0.16862745],\n",
       "       [-0.73893881,  0.17647059],\n",
       "       [-0.73269898,  0.18431373],\n",
       "       [-0.72643083,  0.19215686],\n",
       "       [-0.7201345 ,  0.2       ],\n",
       "       [-0.71380854,  0.20784314],\n",
       "       [-0.70745391,  0.21568627],\n",
       "       [-0.70107132,  0.22352941],\n",
       "       [-0.69466013,  0.23137255],\n",
       "       [-0.68822289,  0.23921569],\n",
       "       [-0.68175912,  0.24705882],\n",
       "       [-0.6752696 ,  0.25490196],\n",
       "       [-0.6687547 ,  0.2627451 ],\n",
       "       [-0.66221583,  0.27058824],\n",
       "       [-0.65565252,  0.27843137],\n",
       "       [-0.64906502,  0.28627451],\n",
       "       [-0.64245379,  0.29411765],\n",
       "       [-0.63581777,  0.30196078],\n",
       "       [-0.62915826,  0.30980392],\n",
       "       [-0.62247378,  0.31764706],\n",
       "       [-0.6157648 ,  0.3254902 ],\n",
       "       [-0.60903078,  0.33333333],\n",
       "       [-0.60227126,  0.34117647],\n",
       "       [-0.59548604,  0.34901961],\n",
       "       [-0.58867449,  0.35686275],\n",
       "       [-0.5818373 ,  0.36470588],\n",
       "       [-0.57497394,  0.37254902],\n",
       "       [-0.56808394,  0.38039216],\n",
       "       [-0.56116778,  0.38823529],\n",
       "       [-0.55422592,  0.39607843],\n",
       "       [-0.54725862,  0.40392157],\n",
       "       [-0.54026604,  0.41176471],\n",
       "       [-0.53324878,  0.41960784],\n",
       "       [-0.52620816,  0.42745098],\n",
       "       [-0.51914513,  0.43529412],\n",
       "       [-0.51206005,  0.44313725],\n",
       "       [-0.5049541 ,  0.45098039],\n",
       "       [-0.49782944,  0.45882353],\n",
       "       [-0.49068645,  0.46666667],\n",
       "       [-0.48352703,  0.4745098 ],\n",
       "       [-0.4763523 ,  0.48235294],\n",
       "       [-0.46916467,  0.49019608],\n",
       "       [-0.46196502,  0.49803922],\n",
       "       [-0.45475551,  0.50588235],\n",
       "       [-0.44753772,  0.51372549],\n",
       "       [-0.44031286,  0.52156863],\n",
       "       [-0.43308344,  0.52941176],\n",
       "       [-0.42585048,  0.5372549 ],\n",
       "       [-0.41861615,  0.54509804],\n",
       "       [-0.41138184,  0.55294118],\n",
       "       [-0.40414873,  0.56078431],\n",
       "       [-0.3969188 ,  0.56862745],\n",
       "       [-0.38969263,  0.57647059],\n",
       "       [-0.38247249,  0.58431373],\n",
       "       [-0.37525839,  0.59215686],\n",
       "       [-0.36805177,  0.6       ],\n",
       "       [-0.36085385,  0.60784314],\n",
       "       [-0.35366482,  0.61568627],\n",
       "       [-0.34648564,  0.62352941],\n",
       "       [-0.33931628,  0.63137255],\n",
       "       [-0.33215764,  0.63921569],\n",
       "       [-0.32500899,  0.64705882],\n",
       "       [-0.3178716 ,  0.65490196],\n",
       "       [-0.31074378,  0.6627451 ],\n",
       "       [-0.30362636,  0.67058824],\n",
       "       [-0.29651871,  0.67843137],\n",
       "       [-0.28942022,  0.68627451],\n",
       "       [-0.28233021,  0.69411765],\n",
       "       [-0.27524796,  0.70196078],\n",
       "       [-0.26817265,  0.70980392],\n",
       "       [-0.26110253,  0.71764706],\n",
       "       [-0.25403804,  0.7254902 ],\n",
       "       [-0.24697667,  0.73333333],\n",
       "       [-0.23991832,  0.74117647],\n",
       "       [-0.2328614 ,  0.74901961],\n",
       "       [-0.22580412,  0.75686275],\n",
       "       [-0.21874613,  0.76470588],\n",
       "       [-0.21168527,  0.77254902],\n",
       "       [-0.20462146,  0.78039216],\n",
       "       [-0.1975522 ,  0.78823529],\n",
       "       [-0.19047695,  0.79607843],\n",
       "       [-0.18339401,  0.80392157],\n",
       "       [-0.17630273,  0.81176471],\n",
       "       [-0.16920191,  0.81960784],\n",
       "       [-0.1620903 ,  0.82745098],\n",
       "       [-0.15496698,  0.83529412],\n",
       "       [-0.14783153,  0.84313725],\n",
       "       [-0.14068252,  0.85098039],\n",
       "       [-0.13351935,  0.85882353],\n",
       "       [-0.12634182,  0.86666667],\n",
       "       [-0.11914897,  0.8745098 ],\n",
       "       [-0.11194023,  0.88235294],\n",
       "       [-0.10471562,  0.89019608],\n",
       "       [-0.09747514,  0.89803922],\n",
       "       [-0.09021842,  0.90588235],\n",
       "       [-0.0829455 ,  0.91372549],\n",
       "       [-0.07565606,  0.92156863],\n",
       "       [-0.06835082,  0.92941176],\n",
       "       [-0.06103039,  0.9372549 ],\n",
       "       [-0.05369398,  0.94509804],\n",
       "       [-0.04634324,  0.95294118],\n",
       "       [-0.03897792,  0.96078431],\n",
       "       [-0.03160003,  0.96862745],\n",
       "       [-0.02420872,  0.97647059],\n",
       "       [-0.0168058 ,  0.98431373],\n",
       "       [-0.00939158,  0.99215686],\n",
       "       [-0.001968  ,  1.        ]])"
      ]
     },
     "execution_count": 101,
     "metadata": {},
     "output_type": "execute_result"
    }
   ],
   "source": [
    "np.stack((model(torch.tensor(test_X[i]).float()).detach().numpy().flatten(), np.array([list(x) for x in test_X[0]])[:, 1]), axis=-1)"
   ]
  },
  {
   "cell_type": "code",
   "execution_count": 103,
   "id": "f7991dce",
   "metadata": {},
   "outputs": [
    {
     "data": {
      "text/plain": [
       "array([0.01180881], dtype=float32)"
      ]
     },
     "execution_count": 103,
     "metadata": {},
     "output_type": "execute_result"
    }
   ],
   "source": [
    "model(torch.tensor(test_X[i]).float()).detach().numpy()[1]"
   ]
  },
  {
   "cell_type": "code",
   "execution_count": null,
   "id": "7f95245c",
   "metadata": {},
   "outputs": [],
   "source": []
  }
 ],
 "metadata": {
  "kernelspec": {
   "display_name": "Python 3",
   "language": "python",
   "name": "python3"
  },
  "language_info": {
   "codemirror_mode": {
    "name": "ipython",
    "version": 3
   },
   "file_extension": ".py",
   "mimetype": "text/x-python",
   "name": "python",
   "nbconvert_exporter": "python",
   "pygments_lexer": "ipython3",
   "version": "3.7.9"
  }
 },
 "nbformat": 4,
 "nbformat_minor": 5
}
